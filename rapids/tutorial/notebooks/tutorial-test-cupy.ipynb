{
 "cells": [
  {
   "cell_type": "markdown",
   "id": "95db2621-a2f2-4774-9f89-9cb3545bfbdd",
   "metadata": {},
   "source": [
    "#### Testing CuPy for the first time"
   ]
  },
  {
   "cell_type": "code",
   "execution_count": 1,
   "id": "6cf4f629-e0b4-46b3-a0ef-8f123896d33c",
   "metadata": {},
   "outputs": [],
   "source": [
    "# Import necessary libraries\n",
    "import cupy as cp\n",
    "import numpy as np\n",
    "import time"
   ]
  },
  {
   "cell_type": "code",
   "execution_count": 2,
   "id": "73c8a1f0-5546-4553-94d8-19d627ddfbd0",
   "metadata": {},
   "outputs": [
    {
     "name": "stdout",
     "output_type": "stream",
     "text": [
      "/home/rapids/notebooks\n"
     ]
    }
   ],
   "source": [
    "!pwd"
   ]
  },
  {
   "cell_type": "code",
   "execution_count": 3,
   "id": "d1c12217-c36a-4283-b2cc-af34bf5f6c4e",
   "metadata": {},
   "outputs": [
    {
     "name": "stdout",
     "output_type": "stream",
     "text": [
      "Thu Sep 18 07:07:00 2025       \n",
      "+---------------------------------------------------------------------------------------+\n",
      "| NVIDIA-SMI 545.23.08              Driver Version: 545.23.08    CUDA Version: 12.3     |\n",
      "|-----------------------------------------+----------------------+----------------------+\n",
      "| GPU  Name                 Persistence-M | Bus-Id        Disp.A | Volatile Uncorr. ECC |\n",
      "| Fan  Temp   Perf          Pwr:Usage/Cap |         Memory-Usage | GPU-Util  Compute M. |\n",
      "|                                         |                      |               MIG M. |\n",
      "|=========================================+======================+======================|\n",
      "|   0  NVIDIA GeForce RTX 3090        Off | 00000000:09:00.0 Off |                  N/A |\n",
      "| 36%   39C    P8              35W / 370W |     26MiB / 24576MiB |      0%      Default |\n",
      "|                                         |                      |                  N/A |\n",
      "+-----------------------------------------+----------------------+----------------------+\n",
      "                                                                                         \n",
      "+---------------------------------------------------------------------------------------+\n",
      "| Processes:                                                                            |\n",
      "|  GPU   GI   CI        PID   Type   Process name                            GPU Memory |\n",
      "|        ID   ID                                                             Usage      |\n",
      "|=======================================================================================|\n",
      "+---------------------------------------------------------------------------------------+\n"
     ]
    }
   ],
   "source": [
    "!nvidia-smi"
   ]
  },
  {
   "cell_type": "code",
   "execution_count": 4,
   "id": "b823ed43-d7b4-401e-a85d-d8bf9b858e24",
   "metadata": {},
   "outputs": [
    {
     "name": "stdout",
     "output_type": "stream",
     "text": [
      "OS                           : Linux-5.15.0-58-generic-x86_64-with-glibc2.35\n",
      "Python Version               : 3.11.13\n",
      "CuPy Version                 : 13.6.0\n",
      "CuPy Platform                : NVIDIA CUDA\n",
      "NumPy Version                : 2.2.6\n",
      "SciPy Version                : 1.16.2\n",
      "Cython Build Version         : 3.1.3\n",
      "Cython Runtime Version       : None\n",
      "CUDA Root                    : /opt/conda\n",
      "nvcc PATH                    : /opt/conda/bin/nvcc\n",
      "CUDA Build Version           : 12090\n",
      "CUDA Driver Version          : 12030\n",
      "CUDA Runtime Version         : 12090 (linked to CuPy) / 12000 (locally installed)\n",
      "CUDA Extra Include Dirs      : []\n",
      "cuBLAS Version               : (available)\n",
      "cuFFT Version                : 11000\n",
      "cuRAND Version               : 10301\n",
      "cuSOLVER Version             : (11, 4, 2)\n",
      "cuSPARSE Version             : (available)\n",
      "NVRTC Version                : (12, 0)\n",
      "Thrust Version               : 200802\n",
      "CUB Build Version            : 200800\n",
      "Jitify Build Version         : <unknown>\n",
      "cuDNN Build Version          : None\n",
      "cuDNN Version                : None\n",
      "NCCL Build Version           : 22707\n",
      "NCCL Runtime Version         : 22707\n",
      "cuTENSOR Version             : None\n",
      "cuSPARSELt Build Version     : None\n",
      "Device 0 Name                : NVIDIA GeForce RTX 3090\n",
      "Device 0 Compute Capability  : 86\n",
      "Device 0 PCI Bus ID          : 0000:09:00.0\n"
     ]
    }
   ],
   "source": [
    "cp.show_config()"
   ]
  },
  {
   "cell_type": "markdown",
   "id": "d8df6bdb-dd53-4986-9224-b682e677ef5e",
   "metadata": {},
   "source": [
    "#### On the **CPU** with **NumPy**"
   ]
  },
  {
   "cell_type": "code",
   "execution_count": 5,
   "id": "b8b0bd7c-c136-4ae7-be03-29bed6695e58",
   "metadata": {},
   "outputs": [
    {
     "name": "stdout",
     "output_type": "stream",
     "text": [
      "NumPy execution time: 4.9810 seconds\n"
     ]
    }
   ],
   "source": [
    "# --- On the CPU with NumPy ---\n",
    "start_time_cpu = time.time()\n",
    "# Create a large array on the CPU\n",
    "cpu_array = np.random.rand(10000, 10000)\n",
    "# Perform a matrix multiplication on the CPU\n",
    "result_cpu = np.dot(cpu_array, cpu_array)\n",
    "end_time_cpu = time.time()\n",
    "print(f\"NumPy execution time: {end_time_cpu - start_time_cpu:.4f} seconds\")"
   ]
  },
  {
   "cell_type": "markdown",
   "id": "87bdcd73-8a41-44b0-87ca-6614b70a8f8e",
   "metadata": {},
   "source": [
    "#### On the **GPU** with **CuPy**"
   ]
  },
  {
   "cell_type": "code",
   "execution_count": 6,
   "id": "34a46f0a-f2ea-4962-a4b8-c9b74205dd3d",
   "metadata": {},
   "outputs": [
    {
     "name": "stdout",
     "output_type": "stream",
     "text": [
      "CuPy execution time: 0.3299 seconds\n"
     ]
    }
   ],
   "source": [
    "# --- On the GPU with CuPy ---\n",
    "start_time_gpu = time.time()\n",
    "# Now, copy the *exact same* array to the GPU\n",
    "gpu_array = cp.asarray(cpu_array)\n",
    "\n",
    "# Perform a matrix multiplication on the GPU\n",
    "result_gpu = cp.dot(gpu_array, gpu_array)\n",
    "end_time_gpu = time.time()\n",
    "print(f\"CuPy execution time: {end_time_gpu - start_time_gpu:.4f} seconds\")"
   ]
  },
  {
   "cell_type": "code",
   "execution_count": 7,
   "id": "0d43ca31-c9eb-4e8d-bc63-5c79871ee8fc",
   "metadata": {},
   "outputs": [
    {
     "name": "stdout",
     "output_type": "stream",
     "text": [
      "\n",
      "Results match: True\n"
     ]
    }
   ],
   "source": [
    "# --- Verify the result ---\n",
    "# To inspect the result on the CPU, transfer it from the GPU\n",
    "result_gpu_host = cp.asnumpy(result_gpu)\n",
    "print(\"\\nResults match:\", np.allclose(result_cpu, result_gpu_host))"
   ]
  },
  {
   "cell_type": "markdown",
   "id": "709732c5-5e29-4600-84ea-d36446b088cf",
   "metadata": {},
   "source": [
    "#### You can use `xp` to handle both cases.\n",
    "```python\n",
    "import numpy as np\n",
    "\n",
    "try:\n",
    "    import cupy as cp\n",
    "    # 기본 GPU (장치 0번) 초기화를 시도\n",
    "    with cp.cuda.Device(0):\n",
    "        xp = cp\n",
    "        print(\"Using CuPy. GPU device 0 is active.\")\n",
    "except (ImportError, cp.cuda.runtime.CUDARuntimeError):\n",
    "    # CuPy가 없거나, 장치 초기화에 실패하면 NumPy로 전환\n",
    "    xp = np\n",
    "    print(\"Using NumPy. CuPy not installed or device initialization failed.\")\n",
    "```"
   ]
  },
  {
   "cell_type": "code",
   "execution_count": null,
   "id": "f66d655f-ddb2-433c-8bbf-30c965858f26",
   "metadata": {},
   "outputs": [],
   "source": []
  },
  {
   "cell_type": "code",
   "execution_count": null,
   "id": "7866f7eb-a491-4026-b8db-0f7b0742dd3e",
   "metadata": {},
   "outputs": [],
   "source": []
  }
 ],
 "metadata": {
  "kernelspec": {
   "display_name": "Python 3",
   "language": "python",
   "name": "python3"
  },
  "language_info": {
   "codemirror_mode": {
    "name": "ipython",
    "version": 3
   },
   "file_extension": ".py",
   "mimetype": "text/x-python",
   "name": "python",
   "nbconvert_exporter": "python",
   "pygments_lexer": "ipython3",
   "version": "3.8.10"
  }
 },
 "nbformat": 4,
 "nbformat_minor": 5
}
